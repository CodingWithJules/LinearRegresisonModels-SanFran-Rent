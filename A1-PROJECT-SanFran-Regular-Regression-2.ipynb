{
 "cells": [
  {
   "cell_type": "markdown",
   "id": "83338738",
   "metadata": {},
   "source": [
    "# Regularized Regression Project\n",
    "\n",
    "Build a Ridge, Lasso, and ElasticNet models that predict the `price` column in the dataset on San Francisco Apartment rentals. Make sure to go through all the the relevant steps of the modelling workflow.\n",
    "\n",
    "1. Use the model you built for the prior project as the basis for comparison. Does regularization improve fit?\n",
    "2. Feel free to skip the EDA and checking of assumptions again\n",
    "2. Engineer (or un-engineer previously) engineered Features as needed\n",
    "3. Fit a Lasso, Ridge, and Elastic Net Regression using the features in your original model.\n",
    "4. Once you are ready, fit your final model and report final model performance estimate by scoring on the test data. Report both test R-squared and MAE.\n",
    "5. What happens to your error if you only model apartments <= 6000 in price... should we do this?\n",
    "\n",
    "Advice:\n",
    "\n",
    "1. Remember, regularization doesn't always help, but it can, especially if you let it choose features for you!"
   ]
  },
  {
   "cell_type": "code",
   "execution_count": 2,
   "id": "7cb398c6",
   "metadata": {},
   "outputs": [
    {
     "data": {
      "text/html": [
       "<div>\n",
       "<style scoped>\n",
       "    .dataframe tbody tr th:only-of-type {\n",
       "        vertical-align: middle;\n",
       "    }\n",
       "\n",
       "    .dataframe tbody tr th {\n",
       "        vertical-align: top;\n",
       "    }\n",
       "\n",
       "    .dataframe thead th {\n",
       "        text-align: right;\n",
       "    }\n",
       "</style>\n",
       "<table border=\"1\" class=\"dataframe\">\n",
       "  <thead>\n",
       "    <tr style=\"text-align: right;\">\n",
       "      <th></th>\n",
       "      <th>price</th>\n",
       "      <th>sqft</th>\n",
       "      <th>beds</th>\n",
       "      <th>bath</th>\n",
       "      <th>laundry</th>\n",
       "      <th>pets</th>\n",
       "      <th>housing_type</th>\n",
       "      <th>parking</th>\n",
       "      <th>hood_district</th>\n",
       "    </tr>\n",
       "  </thead>\n",
       "  <tbody>\n",
       "    <tr>\n",
       "      <th>0</th>\n",
       "      <td>6800</td>\n",
       "      <td>1600.0</td>\n",
       "      <td>2.0</td>\n",
       "      <td>2.0</td>\n",
       "      <td>(a) in-unit</td>\n",
       "      <td>(d) no pets</td>\n",
       "      <td>(c) multi</td>\n",
       "      <td>(b) protected</td>\n",
       "      <td>7.0</td>\n",
       "    </tr>\n",
       "    <tr>\n",
       "      <th>1</th>\n",
       "      <td>3500</td>\n",
       "      <td>550.0</td>\n",
       "      <td>1.0</td>\n",
       "      <td>1.0</td>\n",
       "      <td>(a) in-unit</td>\n",
       "      <td>(a) both</td>\n",
       "      <td>(c) multi</td>\n",
       "      <td>(b) protected</td>\n",
       "      <td>7.0</td>\n",
       "    </tr>\n",
       "    <tr>\n",
       "      <th>2</th>\n",
       "      <td>5100</td>\n",
       "      <td>1300.0</td>\n",
       "      <td>2.0</td>\n",
       "      <td>1.0</td>\n",
       "      <td>(a) in-unit</td>\n",
       "      <td>(a) both</td>\n",
       "      <td>(c) multi</td>\n",
       "      <td>(d) no parking</td>\n",
       "      <td>7.0</td>\n",
       "    </tr>\n",
       "    <tr>\n",
       "      <th>3</th>\n",
       "      <td>9000</td>\n",
       "      <td>3500.0</td>\n",
       "      <td>3.0</td>\n",
       "      <td>2.5</td>\n",
       "      <td>(a) in-unit</td>\n",
       "      <td>(d) no pets</td>\n",
       "      <td>(c) multi</td>\n",
       "      <td>(b) protected</td>\n",
       "      <td>7.0</td>\n",
       "    </tr>\n",
       "    <tr>\n",
       "      <th>4</th>\n",
       "      <td>3100</td>\n",
       "      <td>561.0</td>\n",
       "      <td>1.0</td>\n",
       "      <td>1.0</td>\n",
       "      <td>(c) no laundry</td>\n",
       "      <td>(a) both</td>\n",
       "      <td>(c) multi</td>\n",
       "      <td>(d) no parking</td>\n",
       "      <td>7.0</td>\n",
       "    </tr>\n",
       "  </tbody>\n",
       "</table>\n",
       "</div>"
      ],
      "text/plain": [
       "   price    sqft  beds  bath         laundry         pets housing_type  \\\n",
       "0   6800  1600.0   2.0   2.0     (a) in-unit  (d) no pets    (c) multi   \n",
       "1   3500   550.0   1.0   1.0     (a) in-unit     (a) both    (c) multi   \n",
       "2   5100  1300.0   2.0   1.0     (a) in-unit     (a) both    (c) multi   \n",
       "3   9000  3500.0   3.0   2.5     (a) in-unit  (d) no pets    (c) multi   \n",
       "4   3100   561.0   1.0   1.0  (c) no laundry     (a) both    (c) multi   \n",
       "\n",
       "          parking  hood_district  \n",
       "0   (b) protected            7.0  \n",
       "1   (b) protected            7.0  \n",
       "2  (d) no parking            7.0  \n",
       "3   (b) protected            7.0  \n",
       "4  (d) no parking            7.0  "
      ]
     },
     "execution_count": 2,
     "metadata": {},
     "output_type": "execute_result"
    }
   ],
   "source": [
    "import pandas as pd\n",
    "import numpy as np\n",
    "import matplotlib.pyplot as plt\n",
    "import seaborn as sns\n",
    "\n",
    "import statsmodels.api as sm\n",
    "from sklearn.model_selection import KFold\n",
    "from sklearn.metrics import r2_score as r2, mean_absolute_error as mae, mean_squared_error as mse\n",
    "\n",
    "rentals_df = pd.read_csv(\"./Data/sf_clean.csv\") #.query(\"price <= 6000\")\n",
    "\n",
    "rentals_df.head()"
   ]
  },
  {
   "cell_type": "markdown",
   "id": "c5f56df6",
   "metadata": {},
   "source": [
    "### Data Dictionary\n",
    "\n",
    "1. Price: The price of the rental and our target variable\n",
    "2. sqft: The area in square feet of the rental\n",
    "3. beds: The number of bedrooms in the rental\n",
    "4. bath: The number of bathrooms in the rental\n",
    "5. laundry: Does the rental have a laundry machine inside the house, a shared laundry machine, or no laundry on site?\n",
    "6. pets: Does the rental allow pets? Cats only, dogs only or both cats and dogs?\n",
    "7. Housing type: Is the rental in a multi-unit building, a building with two units, or a stand alone house? \n",
    "8. Parking: Does the apartment off a parking space? No, protected in a garage, off-street in a parking lot, or valet service?\n",
    "9. Hood district: Which part of San Francisco is the apartment located?\n",
    "\n",
    "![image info](SFAR_map.png)"
   ]
  },
  {
   "cell_type": "markdown",
   "id": "a9ba6364",
   "metadata": {},
   "source": [
    "## Feature Engineering"
   ]
  },
  {
   "cell_type": "code",
   "execution_count": 4,
   "id": "8a911dc6",
   "metadata": {},
   "outputs": [],
   "source": [
    "laundry_map = {\n",
    "    \"(a) in-unit\": \"in_unit\",\n",
    "    \"(b) on-site\": \"not_in_unit\",\n",
    "    \"(c) no laundry\": \"not_in_unit\",\n",
    "}\n",
    "\n",
    "pet_map = {\n",
    "    \"(a) both\": \"allows_dogs\",\n",
    "    \"(b) dogs\": \"allows_dogs\",\n",
    "    \"(c) cats\": \"no_dogs\",\n",
    "    \"(d) no pets\": \"no_dogs\"\n",
    "}\n",
    "\n",
    "\n",
    "housing_type_map = {\n",
    "    \"(a) single\": \"single\",\n",
    "    \"(b) double\": \"multi\",\n",
    "    \"(c) multi\": \"multi\",\n",
    "}\n",
    "\n",
    "district_map = {\n",
    "    1.0: \"west\",\n",
    "    2.0: \"southwest\",\n",
    "    3.0: \"southwest\",\n",
    "    4.0: \"central\",\n",
    "    5.0: \"central\",\n",
    "    6.0: \"central\",\n",
    "    7.0: \"marina\",\n",
    "    8.0: \"north beach\",\n",
    "    9.0: \"FiDi/SOMA\",\n",
    "    10.0: \"southwest\"\n",
    "}"
   ]
  },
  {
   "cell_type": "code",
   "execution_count": 5,
   "id": "eb470269",
   "metadata": {},
   "outputs": [],
   "source": [
    "eng_df = rentals_df.assign(\n",
    "#     hood_district = rentals_df[\"hood_district\"].map(district_map),\n",
    "#     housing_type = rentals_df[\"housing_type\"].map(housing_type_map),\n",
    "#     pets = rentals_df[\"pets\"].map(pet_map),\n",
    "#     laundry = rentals_df[\"laundry\"].map(laundry_map),\n",
    "    sqft2 = rentals_df[\"sqft\"] ** 2,\n",
    "    sqft3 = rentals_df[\"sqft\"] ** 3,\n",
    "    beds2 = rentals_df[\"beds\"] ** 2,\n",
    "    beds3 = rentals_df[\"beds\"] ** 3,\n",
    "    bath2 = rentals_df[\"bath\"] ** 2,\n",
    "    bath3 = rentals_df[\"bath\"] ** 3,\n",
    "    beds_bath_ratio = rentals_df[\"beds\"] / rentals_df[\"bath\"]\n",
    ")\n",
    "\n",
    "eng_df = pd.get_dummies(eng_df, drop_first=True)"
   ]
  },
  {
   "cell_type": "code",
   "execution_count": 6,
   "id": "dd92a060",
   "metadata": {},
   "outputs": [
    {
     "data": {
      "text/html": [
       "<div>\n",
       "<style scoped>\n",
       "    .dataframe tbody tr th:only-of-type {\n",
       "        vertical-align: middle;\n",
       "    }\n",
       "\n",
       "    .dataframe tbody tr th {\n",
       "        vertical-align: top;\n",
       "    }\n",
       "\n",
       "    .dataframe thead th {\n",
       "        text-align: right;\n",
       "    }\n",
       "</style>\n",
       "<table border=\"1\" class=\"dataframe\">\n",
       "  <thead>\n",
       "    <tr style=\"text-align: right;\">\n",
       "      <th></th>\n",
       "      <th>price</th>\n",
       "      <th>sqft</th>\n",
       "      <th>beds</th>\n",
       "      <th>bath</th>\n",
       "      <th>hood_district</th>\n",
       "      <th>sqft2</th>\n",
       "      <th>sqft3</th>\n",
       "      <th>beds2</th>\n",
       "      <th>beds3</th>\n",
       "      <th>bath2</th>\n",
       "      <th>...</th>\n",
       "      <th>laundry_(b) on-site</th>\n",
       "      <th>laundry_(c) no laundry</th>\n",
       "      <th>pets_(b) dogs</th>\n",
       "      <th>pets_(c) cats</th>\n",
       "      <th>pets_(d) no pets</th>\n",
       "      <th>housing_type_(b) double</th>\n",
       "      <th>housing_type_(c) multi</th>\n",
       "      <th>parking_(b) protected</th>\n",
       "      <th>parking_(c) off-street</th>\n",
       "      <th>parking_(d) no parking</th>\n",
       "    </tr>\n",
       "  </thead>\n",
       "  <tbody>\n",
       "    <tr>\n",
       "      <th>0</th>\n",
       "      <td>6800</td>\n",
       "      <td>1600.0</td>\n",
       "      <td>2.0</td>\n",
       "      <td>2.0</td>\n",
       "      <td>7.0</td>\n",
       "      <td>2560000.0</td>\n",
       "      <td>4.096000e+09</td>\n",
       "      <td>4.0</td>\n",
       "      <td>8.0</td>\n",
       "      <td>4.00</td>\n",
       "      <td>...</td>\n",
       "      <td>0</td>\n",
       "      <td>0</td>\n",
       "      <td>0</td>\n",
       "      <td>0</td>\n",
       "      <td>1</td>\n",
       "      <td>0</td>\n",
       "      <td>1</td>\n",
       "      <td>1</td>\n",
       "      <td>0</td>\n",
       "      <td>0</td>\n",
       "    </tr>\n",
       "    <tr>\n",
       "      <th>1</th>\n",
       "      <td>3500</td>\n",
       "      <td>550.0</td>\n",
       "      <td>1.0</td>\n",
       "      <td>1.0</td>\n",
       "      <td>7.0</td>\n",
       "      <td>302500.0</td>\n",
       "      <td>1.663750e+08</td>\n",
       "      <td>1.0</td>\n",
       "      <td>1.0</td>\n",
       "      <td>1.00</td>\n",
       "      <td>...</td>\n",
       "      <td>0</td>\n",
       "      <td>0</td>\n",
       "      <td>0</td>\n",
       "      <td>0</td>\n",
       "      <td>0</td>\n",
       "      <td>0</td>\n",
       "      <td>1</td>\n",
       "      <td>1</td>\n",
       "      <td>0</td>\n",
       "      <td>0</td>\n",
       "    </tr>\n",
       "    <tr>\n",
       "      <th>2</th>\n",
       "      <td>5100</td>\n",
       "      <td>1300.0</td>\n",
       "      <td>2.0</td>\n",
       "      <td>1.0</td>\n",
       "      <td>7.0</td>\n",
       "      <td>1690000.0</td>\n",
       "      <td>2.197000e+09</td>\n",
       "      <td>4.0</td>\n",
       "      <td>8.0</td>\n",
       "      <td>1.00</td>\n",
       "      <td>...</td>\n",
       "      <td>0</td>\n",
       "      <td>0</td>\n",
       "      <td>0</td>\n",
       "      <td>0</td>\n",
       "      <td>0</td>\n",
       "      <td>0</td>\n",
       "      <td>1</td>\n",
       "      <td>0</td>\n",
       "      <td>0</td>\n",
       "      <td>1</td>\n",
       "    </tr>\n",
       "    <tr>\n",
       "      <th>3</th>\n",
       "      <td>9000</td>\n",
       "      <td>3500.0</td>\n",
       "      <td>3.0</td>\n",
       "      <td>2.5</td>\n",
       "      <td>7.0</td>\n",
       "      <td>12250000.0</td>\n",
       "      <td>4.287500e+10</td>\n",
       "      <td>9.0</td>\n",
       "      <td>27.0</td>\n",
       "      <td>6.25</td>\n",
       "      <td>...</td>\n",
       "      <td>0</td>\n",
       "      <td>0</td>\n",
       "      <td>0</td>\n",
       "      <td>0</td>\n",
       "      <td>1</td>\n",
       "      <td>0</td>\n",
       "      <td>1</td>\n",
       "      <td>1</td>\n",
       "      <td>0</td>\n",
       "      <td>0</td>\n",
       "    </tr>\n",
       "    <tr>\n",
       "      <th>4</th>\n",
       "      <td>3100</td>\n",
       "      <td>561.0</td>\n",
       "      <td>1.0</td>\n",
       "      <td>1.0</td>\n",
       "      <td>7.0</td>\n",
       "      <td>314721.0</td>\n",
       "      <td>1.765585e+08</td>\n",
       "      <td>1.0</td>\n",
       "      <td>1.0</td>\n",
       "      <td>1.00</td>\n",
       "      <td>...</td>\n",
       "      <td>0</td>\n",
       "      <td>1</td>\n",
       "      <td>0</td>\n",
       "      <td>0</td>\n",
       "      <td>0</td>\n",
       "      <td>0</td>\n",
       "      <td>1</td>\n",
       "      <td>0</td>\n",
       "      <td>0</td>\n",
       "      <td>1</td>\n",
       "    </tr>\n",
       "  </tbody>\n",
       "</table>\n",
       "<p>5 rows × 22 columns</p>\n",
       "</div>"
      ],
      "text/plain": [
       "   price    sqft  beds  bath  hood_district       sqft2         sqft3  beds2  \\\n",
       "0   6800  1600.0   2.0   2.0            7.0   2560000.0  4.096000e+09    4.0   \n",
       "1   3500   550.0   1.0   1.0            7.0    302500.0  1.663750e+08    1.0   \n",
       "2   5100  1300.0   2.0   1.0            7.0   1690000.0  2.197000e+09    4.0   \n",
       "3   9000  3500.0   3.0   2.5            7.0  12250000.0  4.287500e+10    9.0   \n",
       "4   3100   561.0   1.0   1.0            7.0    314721.0  1.765585e+08    1.0   \n",
       "\n",
       "   beds3  bath2  ...  laundry_(b) on-site  laundry_(c) no laundry  \\\n",
       "0    8.0   4.00  ...                    0                       0   \n",
       "1    1.0   1.00  ...                    0                       0   \n",
       "2    8.0   1.00  ...                    0                       0   \n",
       "3   27.0   6.25  ...                    0                       0   \n",
       "4    1.0   1.00  ...                    0                       1   \n",
       "\n",
       "   pets_(b) dogs  pets_(c) cats  pets_(d) no pets  housing_type_(b) double  \\\n",
       "0              0              0                 1                        0   \n",
       "1              0              0                 0                        0   \n",
       "2              0              0                 0                        0   \n",
       "3              0              0                 1                        0   \n",
       "4              0              0                 0                        0   \n",
       "\n",
       "   housing_type_(c) multi  parking_(b) protected  parking_(c) off-street  \\\n",
       "0                       1                      1                       0   \n",
       "1                       1                      1                       0   \n",
       "2                       1                      0                       0   \n",
       "3                       1                      1                       0   \n",
       "4                       1                      0                       0   \n",
       "\n",
       "   parking_(d) no parking  \n",
       "0                       0  \n",
       "1                       0  \n",
       "2                       1  \n",
       "3                       0  \n",
       "4                       1  \n",
       "\n",
       "[5 rows x 22 columns]"
      ]
     },
     "execution_count": 6,
     "metadata": {},
     "output_type": "execute_result"
    }
   ],
   "source": [
    "eng_df.head()"
   ]
  },
  {
   "cell_type": "markdown",
   "id": "33d07e42",
   "metadata": {},
   "source": [
    "## Data Splitting"
   ]
  },
  {
   "cell_type": "code",
   "execution_count": 9,
   "id": "b76fcaf6",
   "metadata": {},
   "outputs": [],
   "source": [
    "from sklearn.model_selection import train_test_split\n",
    "\n",
    "target = \"price\"\n",
    "drop_cols = [\n",
    "#     \"pets_no_dogs\",\n",
    "#     \"housing_type_single\"\n",
    "]\n",
    "\n",
    "X = sm.add_constant(eng_df.drop([target] + drop_cols, axis=1))\n",
    "\n",
    "# Log transform slightly improves normality\n",
    "y = np.log(eng_df[target])\n",
    "# y = eng_df[target]\n",
    "\n",
    "# Test Split\n",
    "X, X_test, y, y_test = train_test_split(X, y, test_size=.2, random_state=2023)"
   ]
  },
  {
   "cell_type": "markdown",
   "id": "1cf72b0f",
   "metadata": {},
   "source": [
    "## Scaling Data"
   ]
  },
  {
   "cell_type": "code",
   "execution_count": 10,
   "id": "79b2838d",
   "metadata": {},
   "outputs": [],
   "source": [
    "from sklearn.preprocessing import StandardScaler\n",
    "\n",
    "std = StandardScaler()\n",
    "X_tr = std.fit_transform(X.values)\n",
    "X_te = std.transform(X_test.values)"
   ]
  },
  {
   "cell_type": "markdown",
   "id": "aa45b4c6",
   "metadata": {},
   "source": [
    "## Ridge"
   ]
  },
  {
   "cell_type": "code",
   "execution_count": 11,
   "id": "13a884f2",
   "metadata": {},
   "outputs": [
    {
     "name": "stdout",
     "output_type": "stream",
     "text": [
      "Cross Val R2: 0.8074196428452629\n",
      "Cross Val MAE: 486.99997261615124\n",
      "Alpha: 0.1519911082952933\n"
     ]
    }
   ],
   "source": [
    "from sklearn.linear_model import RidgeCV\n",
    "\n",
    "n_alphas = 100\n",
    "alphas = 10 ** np.linspace(-3, 3, n_alphas)\n",
    "\n",
    "ridge_model = RidgeCV(alphas=alphas, cv=5)\n",
    "\n",
    "ridge_model.fit(X_tr, y)\n",
    "print(f\"Cross Val R2: {ridge_model.score(X_tr, y)}\")\n",
    "print(f\"Cross Val MAE: {mae(np.exp(y), np.exp(ridge_model.predict(X_tr)))}\")\n",
    "print(f\"Alpha: {ridge_model.alpha_}\")"
   ]
  },
  {
   "cell_type": "code",
   "execution_count": 12,
   "id": "705292ec",
   "metadata": {},
   "outputs": [
    {
     "data": {
      "text/plain": [
       "[('const', 0.0),\n",
       " ('sqft', 0.5053754824577108),\n",
       " ('beds', 0.06239517124426997),\n",
       " ('bath', 0.13703589203885377),\n",
       " ('hood_district', -0.006670843978687262),\n",
       " ('sqft2', -0.44805497363278146),\n",
       " ('sqft3', 0.17215428128398313),\n",
       " ('beds2', -0.17443411652574),\n",
       " ('beds3', 0.11220830969721955),\n",
       " ('bath2', -0.14200368344490824),\n",
       " ('bath3', 0.09260847075261638),\n",
       " ('beds_bath_ratio', 0.06972641132036851),\n",
       " ('laundry_(b) on-site', -0.03830402957354986),\n",
       " ('laundry_(c) no laundry', -0.03437272044157739),\n",
       " ('pets_(b) dogs', 0.007612351646764956),\n",
       " ('pets_(c) cats', -0.0033671477792682554),\n",
       " ('pets_(d) no pets', -0.007584338831835654),\n",
       " ('housing_type_(b) double', -0.010907884951135902),\n",
       " ('housing_type_(c) multi', 0.01726385381226986),\n",
       " ('parking_(b) protected', -0.08254452742391606),\n",
       " ('parking_(c) off-street', -0.027381739479437058),\n",
       " ('parking_(d) no parking', -0.1093503776918138)]"
      ]
     },
     "execution_count": 12,
     "metadata": {},
     "output_type": "execute_result"
    }
   ],
   "source": [
    "list(zip(X.columns, ridge_model.coef_))"
   ]
  },
  {
   "cell_type": "markdown",
   "id": "c5186a67",
   "metadata": {},
   "source": [
    "## Lasso"
   ]
  },
  {
   "cell_type": "code",
   "execution_count": 13,
   "id": "f75df4da",
   "metadata": {
    "scrolled": false
   },
   "outputs": [
    {
     "name": "stdout",
     "output_type": "stream",
     "text": [
      "Cross Val R2: 0.7823247446809933\n",
      "Cross Val MAE: 520.2849889610231\n",
      "Alpha: 0.01\n"
     ]
    }
   ],
   "source": [
    "from sklearn.linear_model import LassoCV\n",
    "\n",
    "n_alphas = 200\n",
    "alphas = 10 ** np.linspace(-2, 3, n_alphas)\n",
    "\n",
    "lasso_model = LassoCV(alphas=alphas, cv=5)\n",
    "\n",
    "lasso_model.fit(X_tr, y)\n",
    "\n",
    "print(f\"Cross Val R2: {lasso_model.score(X_tr, y)}\")\n",
    "print(f\"Cross Val MAE: {mae(np.exp(y), np.exp(lasso_model.predict(X_tr)))}\")\n",
    "print(f\"Alpha: {lasso_model.alpha_}\")"
   ]
  },
  {
   "cell_type": "code",
   "execution_count": 14,
   "id": "a74f56bc",
   "metadata": {},
   "outputs": [
    {
     "data": {
      "text/plain": [
       "[('const', 0.0),\n",
       " ('sqft', 0.21437017549295648),\n",
       " ('beds', 0.0),\n",
       " ('bath', 0.07681231295459999),\n",
       " ('hood_district', 0.0),\n",
       " ('sqft2', -0.0),\n",
       " ('sqft3', -0.0068392197744254),\n",
       " ('beds2', -0.0),\n",
       " ('beds3', -0.0),\n",
       " ('bath2', 0.0),\n",
       " ('bath3', 0.0),\n",
       " ('beds_bath_ratio', 0.07760738987505986),\n",
       " ('laundry_(b) on-site', -0.0383880319635714),\n",
       " ('laundry_(c) no laundry', -0.03055694147043361),\n",
       " ('pets_(b) dogs', 0.0019526372729564022),\n",
       " ('pets_(c) cats', -0.0),\n",
       " ('pets_(d) no pets', -8.830885520107288e-05),\n",
       " ('housing_type_(b) double', -0.004230549530136255),\n",
       " ('housing_type_(c) multi', 0.018677682700661485),\n",
       " ('parking_(b) protected', -0.0),\n",
       " ('parking_(c) off-street', 0.0),\n",
       " ('parking_(d) no parking', -0.03548950276343871)]"
      ]
     },
     "execution_count": 14,
     "metadata": {},
     "output_type": "execute_result"
    }
   ],
   "source": [
    "list(zip(X.columns, lasso_model.coef_))"
   ]
  },
  {
   "cell_type": "markdown",
   "id": "9fec5d1b",
   "metadata": {},
   "source": [
    "## ENET"
   ]
  },
  {
   "cell_type": "code",
   "execution_count": 15,
   "id": "f5c24904",
   "metadata": {
    "scrolled": false
   },
   "outputs": [
    {
     "name": "stdout",
     "output_type": "stream",
     "text": [
      "Cross Val R2: 0.8011930622763215\n",
      "Cross Val MAE: 493.70745181736663\n",
      "Alpha: 0.01\n",
      "L1_Ratio: 0.01\n"
     ]
    }
   ],
   "source": [
    "from sklearn.linear_model import ElasticNetCV\n",
    "\n",
    "alphas = 10 ** np.linspace(-2, 3, 200)\n",
    "l1_ratios = np.linspace(.01, 1, 100)\n",
    "\n",
    "enet_model = ElasticNetCV(alphas=alphas, l1_ratio=l1_ratios, cv=5)\n",
    "\n",
    "enet_model.fit(X_tr, y)\n",
    "\n",
    "print(f\"Cross Val R2: {enet_model.score(X_tr, y)}\")\n",
    "print(f\"Cross Val MAE: {mae(np.exp(y), np.exp(enet_model.predict(X_tr)))}\")\n",
    "print(f\"Alpha: {enet_model.alpha_}\")\n",
    "print(f\"L1_Ratio: {enet_model.l1_ratio_}\")"
   ]
  },
  {
   "cell_type": "markdown",
   "id": "38f2c113",
   "metadata": {},
   "source": [
    "## Final Model Test"
   ]
  },
  {
   "cell_type": "code",
   "execution_count": 16,
   "id": "645246bb",
   "metadata": {},
   "outputs": [
    {
     "name": "stdout",
     "output_type": "stream",
     "text": [
      "Test MAE: 445.49613251160423\n",
      "Test R2: 0.7813116247107397\n"
     ]
    }
   ],
   "source": [
    "print(f\"Test MAE: {mae(np.exp(y_test), np.exp(ridge_model.predict(X_te)))}\")\n",
    "print(f\"Test R2: {r2(y_test, ridge_model.predict(X_te))}\")"
   ]
  },
  {
   "cell_type": "code",
   "execution_count": null,
   "id": "b2b593c9",
   "metadata": {},
   "outputs": [],
   "source": []
  }
 ],
 "metadata": {
  "kernelspec": {
   "display_name": "Python 3 (ipykernel)",
   "language": "python",
   "name": "python3"
  },
  "language_info": {
   "codemirror_mode": {
    "name": "ipython",
    "version": 3
   },
   "file_extension": ".py",
   "mimetype": "text/x-python",
   "name": "python",
   "nbconvert_exporter": "python",
   "pygments_lexer": "ipython3",
   "version": "3.11.3"
  }
 },
 "nbformat": 4,
 "nbformat_minor": 5
}
